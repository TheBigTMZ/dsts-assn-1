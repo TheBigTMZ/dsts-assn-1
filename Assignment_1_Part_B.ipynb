{
 "cells": [
  {
   "cell_type": "markdown",
   "metadata": {},
   "source": [
    "# Predictive Modelling of Eating-Out Problem \n",
    "## Assignment -1 \n",
    "### Data Sceince Technology and Systems \n",
    "#### Student Name: Tamzid Ibrahim\n",
    "#### Student ID: u3265713"
   ]
  },
  {
   "cell_type": "markdown",
   "metadata": {},
   "source": [
    "## Part B\n",
    "### Predictive Modelling"
   ]
  },
  {
   "cell_type": "markdown",
   "metadata": {},
   "source": [
    "This part of the project aims to classify and predict the two target variables in the dataset namely Rating Text and Rating Number using several machine learning algorithms. \n",
    "\n",
    "Key objectives of this part of the project: \n",
    "\n",
    "- Preprocessing and cleaning the dataset for model prediction\n",
    "\n",
    "- Builing and evaluating both regression and classification models on the zomato data\n",
    "\n",
    "- Comparing the performance of the models "
   ]
  },
  {
   "cell_type": "markdown",
   "metadata": {},
   "source": [
    "##### **Loading the Packages:** \n"
   ]
  },
  {
   "cell_type": "code",
   "execution_count": 1,
   "metadata": {},
   "outputs": [],
   "source": [
    "# Loading the packages requred for the modelling part\n",
    "import pandas as pd \n",
    "import matplotlib.pyplot as plt\n",
    "import seaborn as sns\n",
    "import numpy as np"
   ]
  },
  {
   "cell_type": "markdown",
   "metadata": {},
   "source": [
    "##### **Loading the Zomato Data Set:** \n"
   ]
  },
  {
   "cell_type": "code",
   "execution_count": 2,
   "metadata": {},
   "outputs": [],
   "source": [
    "#Specifying the file path of the dataset\n",
    "file_path = \"data/zomato_df_final_data.csv\"\n",
    "#Loading the dataset \n",
    "zomato = pd.read_csv(file_path)"
   ]
  },
  {
   "cell_type": "markdown",
   "metadata": {},
   "source": [
    "### Part B - I - Feature Engineering & Data Cleaning"
   ]
  },
  {
   "cell_type": "markdown",
   "metadata": {},
   "source": [
    "**Data Cleaning** \n",
    "\n",
    "The dataset contains various missing values, the missing values will be handled using various techniques appropriate for the data in the following parts of the project. Data cleaning is very cruicial for modelling. \n",
    "\n",
    "**Feature Selection** \n",
    "\n",
    "Not all of the features or columns present in the data will not be used for modelling, proper feature selection is very crucial for model performance and making the model more efficient. "
   ]
  },
  {
   "cell_type": "markdown",
   "metadata": {},
   "source": [
    "**1. Performing Data cleaning to deal with missing values**"
   ]
  },
  {
   "cell_type": "code",
   "execution_count": 3,
   "metadata": {},
   "outputs": [
    {
     "name": "stdout",
     "output_type": "stream",
     "text": [
      "The column names are: ['address', 'cost', 'cuisine', 'lat', 'link', 'lng', 'phone', 'rating_number', 'rating_text', 'subzone', 'title', 'type', 'votes', 'groupon', 'color', 'cost_2', 'cuisine_color']\n"
     ]
    }
   ],
   "source": [
    "# Using the columns attribute to print the column names\n",
    "# Here the list() is used to to avoid showing the 'Index' part\n",
    "print(\"The column names are:\", list(zomato.columns)) "
   ]
  },
  {
   "cell_type": "markdown",
   "metadata": {},
   "source": [
    "Printing the column names in order to understand the data more, it is very evident from looking at the column names that, rating_number and rating_text are the target variables. "
   ]
  },
  {
   "cell_type": "code",
   "execution_count": 4,
   "metadata": {},
   "outputs": [
    {
     "name": "stdout",
     "output_type": "stream",
     "text": [
      "<class 'pandas.core.frame.DataFrame'>\n",
      "RangeIndex: 10500 entries, 0 to 10499\n",
      "Data columns (total 17 columns):\n",
      " #   Column         Non-Null Count  Dtype  \n",
      "---  ------         --------------  -----  \n",
      " 0   address        10500 non-null  object \n",
      " 1   cost           10154 non-null  float64\n",
      " 2   cuisine        10500 non-null  object \n",
      " 3   lat            10308 non-null  float64\n",
      " 4   link           10500 non-null  object \n",
      " 5   lng            10308 non-null  float64\n",
      " 6   phone          10500 non-null  object \n",
      " 7   rating_number  7184 non-null   float64\n",
      " 8   rating_text    7184 non-null   object \n",
      " 9   subzone        10500 non-null  object \n",
      " 10  title          10500 non-null  object \n",
      " 11  type           10452 non-null  object \n",
      " 12  votes          7184 non-null   float64\n",
      " 13  groupon        10500 non-null  bool   \n",
      " 14  color          10500 non-null  object \n",
      " 15  cost_2         10154 non-null  float64\n",
      " 16  cuisine_color  10500 non-null  object \n",
      "dtypes: bool(1), float64(6), object(10)\n",
      "memory usage: 1.3+ MB\n",
      "None\n",
      "\n",
      "Null values in each column: \n",
      " address             0\n",
      "cost              346\n",
      "cuisine             0\n",
      "lat               192\n",
      "link                0\n",
      "lng               192\n",
      "phone               0\n",
      "rating_number    3316\n",
      "rating_text      3316\n",
      "subzone             0\n",
      "title               0\n",
      "type               48\n",
      "votes            3316\n",
      "groupon             0\n",
      "color               0\n",
      "cost_2            346\n",
      "cuisine_color       0\n",
      "dtype: int64\n"
     ]
    }
   ],
   "source": [
    "# Printing the summary of the dataset \n",
    "print(zomato.info())\n",
    "# Printing the null values in the columns with missing values by using isnull and sum methods\n",
    "print(\"\\nNull values in each column: \\n\", zomato.isnull().sum())"
   ]
  },
  {
   "cell_type": "markdown",
   "metadata": {},
   "source": [
    "Finding the missing values in each column and finding out what percentage of values are missing in those columns. "
   ]
  },
  {
   "cell_type": "code",
   "execution_count": 5,
   "metadata": {},
   "outputs": [
    {
     "name": "stdout",
     "output_type": "stream",
     "text": [
      "address           0.000000\n",
      "cost              3.295238\n",
      "cuisine           0.000000\n",
      "lat               1.828571\n",
      "link              0.000000\n",
      "lng               1.828571\n",
      "phone             0.000000\n",
      "rating_number    31.580952\n",
      "rating_text      31.580952\n",
      "subzone           0.000000\n",
      "title             0.000000\n",
      "type              0.457143\n",
      "votes            31.580952\n",
      "groupon           0.000000\n",
      "color             0.000000\n",
      "cost_2            3.295238\n",
      "cuisine_color     0.000000\n",
      "dtype: float64\n"
     ]
    }
   ],
   "source": [
    "# Calculating the missing values in each column and calculating the percentage of missing values per column \n",
    "# Calculating the missing values in each column of the 'zomato' DataFrame\n",
    "missing_data = zomato.isna().sum()\n",
    "# Calculating the percentage of missing data for each column\n",
    "missing_percentage  = (missing_data / len(zomato)) * 100\n",
    "# Printing the percentage of missing values for each column\n",
    "print(missing_percentage)"
   ]
  },
  {
   "cell_type": "markdown",
   "metadata": {},
   "source": [
    "It can be observed that rating_number, rating_text and votes have the most amount of missing values, all three of the columns have 31.58% missing values. \n",
    "\n",
    "As rating_number and rating_text are the target variables, it is very cruicial on how these missing values are dealt with. "
   ]
  },
  {
   "cell_type": "markdown",
   "metadata": {},
   "source": [
    "**Dealing with missing values in Target Variables i.e rating_number and rating_text**\n",
    "\n",
    "The best possible way to deal with the missing values in the target variables, i.e rating_number and rating_text, is to remove them. Even though they represent a significant portion of the dataset (31.58$). These variables are our targets for regression and classification tasks, any missing values would compromise the models.\n",
    "\n",
    "But on the other hand, imputing values in the target variable may introduce artificail estimates, leading to distorted relationships between the features and the target variable. This can lead ot unrealiable predictions and degrade model performance. \n",
    "\n",
    "Unlinke other missing feature values, ratings of restaurants are highly personal, so we cant really logically estimate ratings from available data, hense guessing ratings could distort the overall distribution of the data. Since these ratings are subjective and dependent on actual user inputs, estimating them is not feasible. \n",
    "\n",
    "Therefore, removing rows with missing values ensures data integrity and the creation of more precise models, even at the cost of reducing dataset size.\n",
    "\n"
   ]
  },
  {
   "cell_type": "code",
   "execution_count": 6,
   "metadata": {},
   "outputs": [
    {
     "name": "stdout",
     "output_type": "stream",
     "text": [
      "\n",
      "Null values in each column: \n",
      " address            0\n",
      "cost             103\n",
      "cuisine            0\n",
      "lat              115\n",
      "link               0\n",
      "lng              115\n",
      "phone              0\n",
      "rating_number      0\n",
      "rating_text        0\n",
      "subzone            0\n",
      "title              0\n",
      "type              21\n",
      "votes              0\n",
      "groupon            0\n",
      "color              0\n",
      "cost_2           103\n",
      "cuisine_color      0\n",
      "dtype: int64\n"
     ]
    }
   ],
   "source": [
    "# Removing the rows with missing rating_number and rating text \n",
    "zomato_clean = zomato.dropna(subset=['rating_number', 'rating_text'])\n",
    "# Printing the null values in the columns with missing values by using isnull and sum methods\n",
    "print(\"\\nNull values in each column: \\n\", zomato_clean.isnull().sum())"
   ]
  },
  {
   "cell_type": "markdown",
   "metadata": {},
   "source": [
    "The above snippet of code suggests that the code effectively removes the null values in the target variables rating_number and rating_text, along with the missing values in the target variable. The missing values in the vote feature also got removed. So, it can be deciphered that, the ratings were missing because these restaurants were unrated and no one actually gave votes for these restaurants. So, rather than imputing the rating number and rating text the best possible action was deleting the missing rows. "
   ]
  },
  {
   "cell_type": "markdown",
   "metadata": {},
   "source": [
    "**Dealing with the missing values in the cost column**"
   ]
  },
  {
   "cell_type": "markdown",
   "metadata": {},
   "source": [
    "Before dealing with the missing values of the cost a histogram is created for the feature to understand the data"
   ]
  },
  {
   "cell_type": "code",
   "execution_count": 7,
   "metadata": {},
   "outputs": [
    {
     "data": {
      "image/png": "[encoded data removed]",
      "text/plain": [
       "<Figure size 1000x600 with 1 Axes>"
      ]
     },
     "metadata": {},
     "output_type": "display_data"
    }
   ],
   "source": [
    "# Creating a histogram to visualize the distribution of the 'cost' column in the 'zomato_clean' DataFrame\n",
    "plt.figure(figsize=(10, 6))\n",
    "# Number of bins have been set to 30 the fill colour to blue \n",
    "plt.hist(zomato_clean['cost'], bins=30, color='blue', edgecolor='black')\n",
    "# Setting the title and its font size \n",
    "plt.title('Distribution of Cost in Zomato_clean', fontsize=16)\n",
    "# Setting the labels \n",
    "plt.xlabel('Cost', fontsize=12)\n",
    "plt.ylabel('Frequency', fontsize=12)\n",
    "# Showing the grid \n",
    "plt.grid(True)\n",
    "plt.show()"
   ]
  },
  {
   "cell_type": "markdown",
   "metadata": {},
   "source": [
    "The histogram of the cost column shows that values in the feature is heavily right-skewed, indicating that there are extremete values (Certain restaurants are very very expensive). So mean imputation is completely out of the question. So, to deal with the missing values imputation will done by using the median of the cost column. "
   ]
  },
  {
   "cell_type": "code",
   "execution_count": 8,
   "metadata": {},
   "outputs": [],
   "source": [
    "# Imputing the missing values in the cost column by using the median\n",
    "# Using the 'fillna' method to replace NaN values in the 'cost' column with the median cost value.\n",
    "# The assign method is used to modify the existing dataset\n",
    "zomato_clean = zomato_clean.assign(cost=zomato_clean['cost'].fillna(zomato_clean['cost'].median()))"
   ]
  },
  {
   "cell_type": "markdown",
   "metadata": {},
   "source": [
    "**Dealing with the missing values in the cost_2 column**"
   ]
  },
  {
   "cell_type": "code",
   "execution_count": 9,
   "metadata": {},
   "outputs": [
    {
     "data": {
      "image/png": "[encoded data removed]",
      "text/plain": [
       "<Figure size 1000x600 with 1 Axes>"
      ]
     },
     "metadata": {},
     "output_type": "display_data"
    }
   ],
   "source": [
    "# Exactly similar to cost column creating a histogram for the cost_2\n",
    "plt.figure(figsize=(10, 6))\n",
    "plt.hist(zomato_clean['cost_2'], bins=30, color='blue', edgecolor='black')\n",
    "plt.title('Distribution of Cost_2 in Zomato_clean', fontsize=16)\n",
    "plt.xlabel('Cost_2', fontsize=12)\n",
    "plt.ylabel('Frequency', fontsize=12)\n",
    "plt.grid(True)\n",
    "plt.show()"
   ]
  },
  {
   "cell_type": "markdown",
   "metadata": {},
   "source": [
    "The histogram of the cost_2 column is also right skewed, similar to the cost column, median imputation will be done to remove the na values. "
   ]
  },
  {
   "cell_type": "code",
   "execution_count": 10,
   "metadata": {},
   "outputs": [],
   "source": [
    "# Similar to that of the cost column, imputing the cost_2 column missing values with median\n",
    "zomato_clean = zomato_clean.assign(cost_2=zomato_clean['cost_2'].fillna(zomato_clean['cost_2'].median()))"
   ]
  },
  {
   "cell_type": "code",
   "execution_count": 11,
   "metadata": {},
   "outputs": [
    {
     "name": "stdout",
     "output_type": "stream",
     "text": [
      "\n",
      "Null values in each column: \n",
      " address            0\n",
      "cost               0\n",
      "cuisine            0\n",
      "lat              115\n",
      "link               0\n",
      "lng              115\n",
      "phone              0\n",
      "rating_number      0\n",
      "rating_text        0\n",
      "subzone            0\n",
      "title              0\n",
      "type              21\n",
      "votes              0\n",
      "groupon            0\n",
      "color              0\n",
      "cost_2             0\n",
      "cuisine_color      0\n",
      "dtype: int64\n"
     ]
    }
   ],
   "source": [
    "# Printing the null values in the columns with missing values by using isnull and sum method\n",
    "print(\"\\nNull values in each column: \\n\", zomato_clean.isnull().sum())"
   ]
  },
  {
   "cell_type": "markdown",
   "metadata": {},
   "source": [
    "The cost column and the cost_2 columns have been sucessfully imputed by their median values. \n",
    "\n",
    "But there are other features with missing values, both lat and lng has 115 values and type has 21 missing values. "
   ]
  },
  {
   "cell_type": "markdown",
   "metadata": {},
   "source": [
    "**Dealing with the missing values in type column**"
   ]
  },
  {
   "cell_type": "markdown",
   "metadata": {},
   "source": [
    "As there are only 21 rows with missing values in the type column, this number is very negligible considering the size of the dataset, thus the rows with missing values will be dropped. "
   ]
  },
  {
   "cell_type": "code",
   "execution_count": 12,
   "metadata": {},
   "outputs": [],
   "source": [
    "# Dropping the rows which have NA in type\n",
    "zomato_clean = zomato_clean.dropna(subset=['type'])"
   ]
  },
  {
   "cell_type": "code",
   "execution_count": 13,
   "metadata": {},
   "outputs": [
    {
     "name": "stdout",
     "output_type": "stream",
     "text": [
      "\n",
      "Null values in each column: \n",
      " address            0\n",
      "cost               0\n",
      "cuisine            0\n",
      "lat              115\n",
      "link               0\n",
      "lng              115\n",
      "phone              0\n",
      "rating_number      0\n",
      "rating_text        0\n",
      "subzone            0\n",
      "title              0\n",
      "type               0\n",
      "votes              0\n",
      "groupon            0\n",
      "color              0\n",
      "cost_2             0\n",
      "cuisine_color      0\n",
      "dtype: int64\n"
     ]
    }
   ],
   "source": [
    "# Printing the null values in the columns with missing values by using isnull and sum methods\n",
    "print(\"\\nNull values in each column: \\n\", zomato_clean.isnull().sum())"
   ]
  },
  {
   "cell_type": "markdown",
   "metadata": {},
   "source": [
    "Various strategies were implemented in the data preprocessing phase for addressing the missing values in the datset, the strategies used was tailored to the nature and importance of each column. \n",
    "\n",
    "For the target variables, the rows which had missing rating_number and rating_text had been completely removed, eventhough it reduced the dataset size by 31.58%, but the integrity of the data was preserved to ensure more accurate model outcomes. \n",
    "\n",
    "\n"
   ]
  },
  {
   "cell_type": "markdown",
   "metadata": {},
   "source": [
    "The missing values have been addressed in the previous steps, for the case of target variables rating_number and rating_text, the rows with NAs were completely removed due their critical role in predictive modelling. For the cost and cost_2 columns, median imputation was applied to manage missing and extreme values, given their right-skewed distributions. Additionally, rows with missing values in the type column were dropped due to the small number of missing entries. The missing values in the lat and lng columns will be addressed after assessing their relevance in the modeling process. "
   ]
  },
  {
   "cell_type": "markdown",
   "metadata": {},
   "source": [
    "**2. Preparing the data for modelling setup**"
   ]
  },
  {
   "cell_type": "markdown",
   "metadata": {},
   "source": [
    "**Managing the Numerical columns**"
   ]
  },
  {
   "cell_type": "markdown",
   "metadata": {},
   "source": [
    "To prepare for the modelling, the categorical columns and numerical columns need to be identified"
   ]
  },
  {
   "cell_type": "code",
   "execution_count": 14,
   "metadata": {},
   "outputs": [
    {
     "name": "stdout",
     "output_type": "stream",
     "text": [
      "Categorical columns are:  ['address', 'cuisine', 'link', 'phone', 'rating_text', 'subzone', 'title', 'type', 'groupon', 'color', 'cuisine_color']\n",
      "Numerical columns are:  ['cost', 'lat', 'lng', 'rating_number', 'votes', 'cost_2']\n"
     ]
    }
   ],
   "source": [
    "# Identifying categorical variables in the 'zomato_clean' DataFrame\n",
    "# This includes columns with data types 'object' (strings) and 'bool' (boolean)\n",
    "categorical_vars = zomato_clean.select_dtypes(include=['object', 'bool']).columns.tolist()\n",
    "# Identifying numerical variables in the 'zomato_clean' DataFrame\n",
    "# This includes columns with data types 'float64' and 'int64' (numeric types).\n",
    "numerical_vars= zomato_clean.select_dtypes(include=['float64', 'int64']).columns.tolist()\n",
    "# printing the identified categorical and numerical columns\n",
    "print(\"Categorical columns are: \", categorical_vars) \n",
    "print(\"Numerical columns are: \", numerical_vars) "
   ]
  },
  {
   "cell_type": "markdown",
   "metadata": {},
   "source": [
    "**Dealing with lat, lng, and cost_2**"
   ]
  },
  {
   "cell_type": "markdown",
   "metadata": {},
   "source": [
    "To identify important numerical variables, a correlation heatmap will be created. "
   ]
  },
  {
   "cell_type": "code",
   "execution_count": 15,
   "metadata": {},
   "outputs": [
    {
     "data": {
      "image/png": "[encoded data removed]",
      "text/plain": [
       "<Figure size 1000x600 with 2 Axes>"
      ]
     },
     "metadata": {},
     "output_type": "display_data"
    }
   ],
   "source": [
    "# Creating a correlation heatmap to visualize relationships between numerical variables in the 'zomato_clean' DataFrame\n",
    "# Setting the size of the figure\n",
    "plt.figure(figsize=(10, 6))\n",
    "corr_matrix = zomato_clean[numerical_vars].corr()\n",
    "# Plotting the heatmap using Seaborn\n",
    "sns.heatmap(corr_matrix, annot=True, cmap=\"coolwarm\", linewidths=0.5)\n",
    "# Setting the titles \n",
    "plt.title('Correlation Heatmap of Numerical Variables in Zomato_clean', fontsize=16)\n",
    "plt.show()"
   ]
  },
  {
   "cell_type": "markdown",
   "metadata": {},
   "source": [
    "The visualized heatmap shows the relationship between the numerical variables in the data, as expected there is a strong negative correlationship between lat (latitude) and lng(longitude). Additionally rating_number is moderately related to vote indicating that high-rated restaurants tend to receive more votes. The cost and cost_2 columns are perfectly correlated since cost_2 is a transformation of cost. "
   ]
  },
  {
   "cell_type": "markdown",
   "metadata": {},
   "source": [
    "So, lat and lng columns will be removed from the data, additionally the cost_2 will also be removed because there is autocorrelation between cost and cost_2 which is not good for modelling. "
   ]
  },
  {
   "cell_type": "code",
   "execution_count": 16,
   "metadata": {},
   "outputs": [],
   "source": [
    "# Removing the 'lat', 'lng', and 'cost_2' columns from the zomato_clean dataset\n",
    "zomato_clean = zomato_clean.drop(columns=['lat', 'lng', 'cost_2'])"
   ]
  },
  {
   "cell_type": "markdown",
   "metadata": {},
   "source": [
    "**Dealing with the skewness of cost column**"
   ]
  },
  {
   "cell_type": "code",
   "execution_count": 17,
   "metadata": {},
   "outputs": [],
   "source": [
    "# The 'np.log1p()' function is used to compute the natural logarithm of (cost + 1)\n",
    "# which effectively handles any zero values in the 'cost' column and avoids issues with log(0).\n",
    "zomato_clean['cost_log'] = np.log1p(zomato_clean['cost'])  "
   ]
  },
  {
   "cell_type": "code",
   "execution_count": 18,
   "metadata": {},
   "outputs": [
    {
     "data": {
      "text/plain": [
       "address          0\n",
       "cost             0\n",
       "cuisine          0\n",
       "link             0\n",
       "phone            0\n",
       "rating_number    0\n",
       "rating_text      0\n",
       "subzone          0\n",
       "title            0\n",
       "type             0\n",
       "votes            0\n",
       "groupon          0\n",
       "color            0\n",
       "cuisine_color    0\n",
       "cost_log         0\n",
       "dtype: int64"
      ]
     },
     "execution_count": 18,
     "metadata": {},
     "output_type": "execute_result"
    }
   ],
   "source": [
    "# Verify if there are any missing values remaining\n",
    "zomato_clean.isnull().sum()"
   ]
  },
  {
   "cell_type": "code",
   "execution_count": 19,
   "metadata": {},
   "outputs": [
    {
     "data": {
      "image/png": "[encoded data removed]",
      "text/plain": [
       "<Figure size 1000x600 with 1 Axes>"
      ]
     },
     "metadata": {},
     "output_type": "display_data"
    }
   ],
   "source": [
    "# Plotting the transformed 'cost_log' column\n",
    "plt.figure(figsize=(10, 6))\n",
    "# Setting the bin size to 30\n",
    "plt.hist(zomato_clean['cost_log'], bins=30, color='green', edgecolor='black')\n",
    "# Setting the title \n",
    "plt.title('Distribution of Log-Transformed Cost in Zomato_clean', fontsize=16)\n",
    "# Setting the xlabel and ylabel \n",
    "plt.xlabel('Log(Cost)', fontsize=12)\n",
    "plt.ylabel('Frequency', fontsize=12)\n",
    "plt.grid(True)\n",
    "plt.show()"
   ]
  },
  {
   "cell_type": "markdown",
   "metadata": {},
   "source": [
    "Log transormation has been applied to the cost column and after plotting, it can be seen that the distribution for the log_cost is much more normal compared to the skewed distribution of the cost column. "
   ]
  },
  {
   "cell_type": "code",
   "execution_count": 20,
   "metadata": {},
   "outputs": [],
   "source": [
    "# Dropping the cost column\n",
    "zomato_clean = zomato_clean.drop(columns=['cost'])"
   ]
  },
  {
   "cell_type": "markdown",
   "metadata": {},
   "source": [
    "The original cost column will be removed"
   ]
  },
  {
   "cell_type": "markdown",
   "metadata": {},
   "source": [
    "**Managing the categorical columns**"
   ]
  },
  {
   "cell_type": "markdown",
   "metadata": {},
   "source": [
    "**Dropping unnecessary categorical columns ('address', 'link', 'phone', 'title', 'color', 'cuisine_color')**"
   ]
  },
  {
   "cell_type": "code",
   "execution_count": 21,
   "metadata": {},
   "outputs": [],
   "source": [
    "# Droppping the categorical columns 'address', 'link', 'phone', 'title', 'color', 'cuisine_color'\n",
    "zomato_clean = zomato_clean.drop(columns=['address', 'link', 'phone', 'title', 'color', 'cuisine_color'])"
   ]
  },
  {
   "cell_type": "markdown",
   "metadata": {},
   "source": [
    "The address, link, phone, title, color and cuisine_color columns have been dropped from the data. Because they are irrelevant to the modelling task at hand. "
   ]
  },
  {
   "cell_type": "markdown",
   "metadata": {},
   "source": [
    "**Addressing the Subzone, type, and cuisine column**\n",
    "\n",
    "Only taking the suburb name from the subzone column\n",
    "\n",
    "For the type and cuisine colum the lists are converted and properly formatted "
   ]
  },
  {
   "cell_type": "code",
   "execution_count": 22,
   "metadata": {},
   "outputs": [],
   "source": [
    "# Extract the location or suburb name from the 'subzone' column\n",
    "# It has been assumed that the first part of the string before any commas is the suburb name\n",
    "# The 'apply' function is used to apply a lambda function that splits each string by commas \n",
    "zomato_clean['subzone'] = zomato_clean['subzone'].apply(lambda x: x.split(',')[0] if isinstance(x, str) else x)\n",
    "# Changing the 'type' and 'cuisine' column from string representation of lists to actual lists\n",
    "# The 'eval' function is used here to convert the string representation back into a list,\n",
    "zomato_clean['type'] = zomato_clean['type'].apply(lambda x: eval(x) if isinstance(x, str) else x)\n",
    "zomato_clean['cuisine'] = zomato_clean['cuisine'].apply(lambda x: eval(x) if isinstance(x, str) else x)\n"
   ]
  },
  {
   "cell_type": "markdown",
   "metadata": {},
   "source": [
    "**Encoding the groupon column**"
   ]
  },
  {
   "cell_type": "code",
   "execution_count": 23,
   "metadata": {},
   "outputs": [],
   "source": [
    "# Performing one-hot encoding on the 'groupon' column of the 'zomato_clean' DataFrame\n",
    "# The 'pd.get_dummies()' function creates new binary columns for each category in the 'groupon' column.\n",
    "zomato_clean = pd.get_dummies(zomato_clean, columns=['groupon'], drop_first=True)"
   ]
  },
  {
   "cell_type": "code",
   "execution_count": 24,
   "metadata": {},
   "outputs": [
    {
     "data": {
      "text/html": [
       "<div>\n",
       "<style scoped>\n",
       "    .dataframe tbody tr th:only-of-type {\n",
       "        vertical-align: middle;\n",
       "    }\n",
       "\n",
       "    .dataframe tbody tr th {\n",
       "        vertical-align: top;\n",
       "    }\n",
       "\n",
       "    .dataframe thead th {\n",
       "        text-align: right;\n",
       "    }\n",
       "</style>\n",
       "<table border=\"1\" class=\"dataframe\">\n",
       "  <thead>\n",
       "    <tr style=\"text-align: right;\">\n",
       "      <th></th>\n",
       "      <th>cuisine</th>\n",
       "      <th>rating_number</th>\n",
       "      <th>rating_text</th>\n",
       "      <th>subzone</th>\n",
       "      <th>type</th>\n",
       "      <th>votes</th>\n",
       "      <th>cost_log</th>\n",
       "      <th>groupon_True</th>\n",
       "    </tr>\n",
       "  </thead>\n",
       "  <tbody>\n",
       "    <tr>\n",
       "      <th>0</th>\n",
       "      <td>[Hot Pot, Korean BBQ, BBQ, Korean]</td>\n",
       "      <td>4.0</td>\n",
       "      <td>Very Good</td>\n",
       "      <td>CBD</td>\n",
       "      <td>[Casual Dining]</td>\n",
       "      <td>1311.0</td>\n",
       "      <td>3.931826</td>\n",
       "      <td>False</td>\n",
       "    </tr>\n",
       "    <tr>\n",
       "      <th>1</th>\n",
       "      <td>[Cafe, Coffee and Tea, Salad, Poké]</td>\n",
       "      <td>4.6</td>\n",
       "      <td>Excellent</td>\n",
       "      <td>The Grounds of Alexandria</td>\n",
       "      <td>[Café]</td>\n",
       "      <td>3236.0</td>\n",
       "      <td>4.394449</td>\n",
       "      <td>False</td>\n",
       "    </tr>\n",
       "    <tr>\n",
       "      <th>2</th>\n",
       "      <td>[Japanese]</td>\n",
       "      <td>4.9</td>\n",
       "      <td>Excellent</td>\n",
       "      <td>The Star</td>\n",
       "      <td>[Fine Dining]</td>\n",
       "      <td>1227.0</td>\n",
       "      <td>4.795791</td>\n",
       "      <td>False</td>\n",
       "    </tr>\n",
       "    <tr>\n",
       "      <th>3</th>\n",
       "      <td>[Modern Australian]</td>\n",
       "      <td>4.9</td>\n",
       "      <td>Excellent</td>\n",
       "      <td>Circular Quay</td>\n",
       "      <td>[Fine Dining, Bar]</td>\n",
       "      <td>278.0</td>\n",
       "      <td>5.602119</td>\n",
       "      <td>False</td>\n",
       "    </tr>\n",
       "    <tr>\n",
       "      <th>4</th>\n",
       "      <td>[Thai, Salad]</td>\n",
       "      <td>4.5</td>\n",
       "      <td>Excellent</td>\n",
       "      <td>Chinatown</td>\n",
       "      <td>[Casual Dining]</td>\n",
       "      <td>2150.0</td>\n",
       "      <td>4.025352</td>\n",
       "      <td>False</td>\n",
       "    </tr>\n",
       "  </tbody>\n",
       "</table>\n",
       "</div>"
      ],
      "text/plain": [
       "                               cuisine  rating_number rating_text  \\\n",
       "0   [Hot Pot, Korean BBQ, BBQ, Korean]            4.0   Very Good   \n",
       "1  [Cafe, Coffee and Tea, Salad, Poké]            4.6   Excellent   \n",
       "2                           [Japanese]            4.9   Excellent   \n",
       "3                  [Modern Australian]            4.9   Excellent   \n",
       "4                        [Thai, Salad]            4.5   Excellent   \n",
       "\n",
       "                     subzone                type   votes  cost_log  \\\n",
       "0                        CBD     [Casual Dining]  1311.0  3.931826   \n",
       "1  The Grounds of Alexandria              [Café]  3236.0  4.394449   \n",
       "2                   The Star       [Fine Dining]  1227.0  4.795791   \n",
       "3              Circular Quay  [Fine Dining, Bar]   278.0  5.602119   \n",
       "4                  Chinatown     [Casual Dining]  2150.0  4.025352   \n",
       "\n",
       "   groupon_True  \n",
       "0         False  \n",
       "1         False  \n",
       "2         False  \n",
       "3         False  \n",
       "4         False  "
      ]
     },
     "execution_count": 24,
     "metadata": {},
     "output_type": "execute_result"
    }
   ],
   "source": [
    "# Viewing the first 5 rows of the zomato cleaned \n",
    "zomato_clean.head()\n"
   ]
  },
  {
   "cell_type": "markdown",
   "metadata": {},
   "source": [
    "**Encoding subzone, type and cuisine column**"
   ]
  },
  {
   "cell_type": "markdown",
   "metadata": {},
   "source": [
    "The cuisine, type and subzone columns are prepared for machine learning analysis, by using one hot encoding. "
   ]
  },
  {
   "cell_type": "code",
   "execution_count": 25,
   "metadata": {},
   "outputs": [
    {
     "data": {
      "text/html": [
       "<div>\n",
       "<style scoped>\n",
       "    .dataframe tbody tr th:only-of-type {\n",
       "        vertical-align: middle;\n",
       "    }\n",
       "\n",
       "    .dataframe tbody tr th {\n",
       "        vertical-align: top;\n",
       "    }\n",
       "\n",
       "    .dataframe thead th {\n",
       "        text-align: right;\n",
       "    }\n",
       "</style>\n",
       "<table border=\"1\" class=\"dataframe\">\n",
       "  <thead>\n",
       "    <tr style=\"text-align: right;\">\n",
       "      <th></th>\n",
       "      <th>rating_number</th>\n",
       "      <th>rating_text</th>\n",
       "      <th>votes</th>\n",
       "      <th>cost_log</th>\n",
       "      <th>groupon_True</th>\n",
       "      <th>cuisine_African</th>\n",
       "      <th>cuisine_American</th>\n",
       "      <th>cuisine_Arabian</th>\n",
       "      <th>cuisine_Argentine</th>\n",
       "      <th>cuisine_Asian</th>\n",
       "      <th>...</th>\n",
       "      <th>subzone_Woollahra</th>\n",
       "      <th>subzone_Woolloomooloo</th>\n",
       "      <th>subzone_Wooloware</th>\n",
       "      <th>subzone_Workers Blacktown</th>\n",
       "      <th>subzone_World Square Shopping Centre</th>\n",
       "      <th>subzone_Woronora</th>\n",
       "      <th>subzone_Wynyard Station</th>\n",
       "      <th>subzone_Yarrawarrah</th>\n",
       "      <th>subzone_Zetland</th>\n",
       "      <th>subzone_revesby workers'</th>\n",
       "    </tr>\n",
       "  </thead>\n",
       "  <tbody>\n",
       "    <tr>\n",
       "      <th>0</th>\n",
       "      <td>4.0</td>\n",
       "      <td>Very Good</td>\n",
       "      <td>1311.0</td>\n",
       "      <td>3.931826</td>\n",
       "      <td>False</td>\n",
       "      <td>False</td>\n",
       "      <td>False</td>\n",
       "      <td>False</td>\n",
       "      <td>False</td>\n",
       "      <td>False</td>\n",
       "      <td>...</td>\n",
       "      <td>False</td>\n",
       "      <td>False</td>\n",
       "      <td>False</td>\n",
       "      <td>False</td>\n",
       "      <td>False</td>\n",
       "      <td>False</td>\n",
       "      <td>False</td>\n",
       "      <td>False</td>\n",
       "      <td>False</td>\n",
       "      <td>False</td>\n",
       "    </tr>\n",
       "    <tr>\n",
       "      <th>0</th>\n",
       "      <td>4.0</td>\n",
       "      <td>Very Good</td>\n",
       "      <td>1311.0</td>\n",
       "      <td>3.931826</td>\n",
       "      <td>False</td>\n",
       "      <td>False</td>\n",
       "      <td>False</td>\n",
       "      <td>False</td>\n",
       "      <td>False</td>\n",
       "      <td>False</td>\n",
       "      <td>...</td>\n",
       "      <td>False</td>\n",
       "      <td>False</td>\n",
       "      <td>False</td>\n",
       "      <td>False</td>\n",
       "      <td>False</td>\n",
       "      <td>False</td>\n",
       "      <td>False</td>\n",
       "      <td>False</td>\n",
       "      <td>False</td>\n",
       "      <td>False</td>\n",
       "    </tr>\n",
       "    <tr>\n",
       "      <th>0</th>\n",
       "      <td>4.0</td>\n",
       "      <td>Very Good</td>\n",
       "      <td>1311.0</td>\n",
       "      <td>3.931826</td>\n",
       "      <td>False</td>\n",
       "      <td>False</td>\n",
       "      <td>False</td>\n",
       "      <td>False</td>\n",
       "      <td>False</td>\n",
       "      <td>False</td>\n",
       "      <td>...</td>\n",
       "      <td>False</td>\n",
       "      <td>False</td>\n",
       "      <td>False</td>\n",
       "      <td>False</td>\n",
       "      <td>False</td>\n",
       "      <td>False</td>\n",
       "      <td>False</td>\n",
       "      <td>False</td>\n",
       "      <td>False</td>\n",
       "      <td>False</td>\n",
       "    </tr>\n",
       "    <tr>\n",
       "      <th>0</th>\n",
       "      <td>4.0</td>\n",
       "      <td>Very Good</td>\n",
       "      <td>1311.0</td>\n",
       "      <td>3.931826</td>\n",
       "      <td>False</td>\n",
       "      <td>False</td>\n",
       "      <td>False</td>\n",
       "      <td>False</td>\n",
       "      <td>False</td>\n",
       "      <td>False</td>\n",
       "      <td>...</td>\n",
       "      <td>False</td>\n",
       "      <td>False</td>\n",
       "      <td>False</td>\n",
       "      <td>False</td>\n",
       "      <td>False</td>\n",
       "      <td>False</td>\n",
       "      <td>False</td>\n",
       "      <td>False</td>\n",
       "      <td>False</td>\n",
       "      <td>False</td>\n",
       "    </tr>\n",
       "    <tr>\n",
       "      <th>1</th>\n",
       "      <td>4.6</td>\n",
       "      <td>Excellent</td>\n",
       "      <td>3236.0</td>\n",
       "      <td>4.394449</td>\n",
       "      <td>False</td>\n",
       "      <td>False</td>\n",
       "      <td>False</td>\n",
       "      <td>False</td>\n",
       "      <td>False</td>\n",
       "      <td>False</td>\n",
       "      <td>...</td>\n",
       "      <td>False</td>\n",
       "      <td>False</td>\n",
       "      <td>False</td>\n",
       "      <td>False</td>\n",
       "      <td>False</td>\n",
       "      <td>False</td>\n",
       "      <td>False</td>\n",
       "      <td>False</td>\n",
       "      <td>False</td>\n",
       "      <td>False</td>\n",
       "    </tr>\n",
       "  </tbody>\n",
       "</table>\n",
       "<p>5 rows × 662 columns</p>\n",
       "</div>"
      ],
      "text/plain": [
       "   rating_number rating_text   votes  cost_log  groupon_True  cuisine_African  \\\n",
       "0            4.0   Very Good  1311.0  3.931826         False            False   \n",
       "0            4.0   Very Good  1311.0  3.931826         False            False   \n",
       "0            4.0   Very Good  1311.0  3.931826         False            False   \n",
       "0            4.0   Very Good  1311.0  3.931826         False            False   \n",
       "1            4.6   Excellent  3236.0  4.394449         False            False   \n",
       "\n",
       "   cuisine_American  cuisine_Arabian  cuisine_Argentine  cuisine_Asian  ...  \\\n",
       "0             False            False              False          False  ...   \n",
       "0             False            False              False          False  ...   \n",
       "0             False            False              False          False  ...   \n",
       "0             False            False              False          False  ...   \n",
       "1             False            False              False          False  ...   \n",
       "\n",
       "   subzone_Woollahra  subzone_Woolloomooloo  subzone_Wooloware  \\\n",
       "0              False                  False              False   \n",
       "0              False                  False              False   \n",
       "0              False                  False              False   \n",
       "0              False                  False              False   \n",
       "1              False                  False              False   \n",
       "\n",
       "   subzone_Workers Blacktown  subzone_World Square Shopping Centre  \\\n",
       "0                      False                                 False   \n",
       "0                      False                                 False   \n",
       "0                      False                                 False   \n",
       "0                      False                                 False   \n",
       "1                      False                                 False   \n",
       "\n",
       "   subzone_Woronora  subzone_Wynyard Station  subzone_Yarrawarrah  \\\n",
       "0             False                    False                False   \n",
       "0             False                    False                False   \n",
       "0             False                    False                False   \n",
       "0             False                    False                False   \n",
       "1             False                    False                False   \n",
       "\n",
       "   subzone_Zetland  subzone_revesby workers'  \n",
       "0            False                     False  \n",
       "0            False                     False  \n",
       "0            False                     False  \n",
       "0            False                     False  \n",
       "1            False                     False  \n",
       "\n",
       "[5 rows x 662 columns]"
      ]
     },
     "execution_count": 25,
     "metadata": {},
     "output_type": "execute_result"
    }
   ],
   "source": [
    "# Flattening the 'cuisine' and 'type' column by creating new binary features for each unique category\n",
    "# The 'explode()' function is used to transform each element of the lists in the 'cuisine' and 'type' column into its own row\n",
    "# Using one hot encoding for both cuisine and type\n",
    "zomato_encoded = zomato_clean.explode('cuisine')\n",
    "zomato_encoded = pd.get_dummies(zomato_encoded, columns=['cuisine'], drop_first=True)\n",
    "zomato_encoded = zomato_encoded.explode('type')\n",
    "zomato_encoded = pd.get_dummies(zomato_encoded, columns=['type'], drop_first=True)\n",
    "# Performing one-hot encoding on the 'subzone' column to create binary features for each unique suburb\n",
    "zomato_encoded = pd.get_dummies(zomato_encoded, columns=['subzone'], drop_first=True)\n",
    "# Displaying the first few rows to verify the change\n",
    "zomato_encoded.head()"
   ]
  },
  {
   "cell_type": "markdown",
   "metadata": {},
   "source": [
    "Numerical columns such as lat, lng, and cost_2 were removed due to high correlations that could introduce multicollinearity issues. A log transformation was applied to the cost column to correct skewness, and the original column was dropped. Categorical columns like address, link, phone, and others were deemed irrelevant and removed. The cuisine and type columns, originally stored as lists, were transformed and one-hot encoded to prepare them for analysis. Additionally, the subzone column was cleaned to extract only the suburb names, and one-hot encoding was applied to categorical features such as groupon, subzone, cuisine, and type to prepare the dataset for machine learning models."
   ]
  },
  {
   "cell_type": "markdown",
   "metadata": {},
   "source": [
    "### Part B - II - Regression"
   ]
  },
  {
   "cell_type": "markdown",
   "metadata": {},
   "source": [
    "### Building Linear Regression Models\n",
    "\n",
    "In this section, we build and evaluate two linear regression models to predict the restaurant ratings based on the features prepared in the previous steps. We will first train a standard linear regression model, followed by a regression model using stochastic gradient descent (SGD). \n"
   ]
  },
  {
   "cell_type": "markdown",
   "metadata": {},
   "source": [
    "**3. Building the linear_regression_model_1**"
   ]
  },
  {
   "cell_type": "code",
   "execution_count": 26,
   "metadata": {},
   "outputs": [],
   "source": [
    "# Importing necessary functions for model training and evaluation\n",
    "from sklearn.model_selection import train_test_split\n",
    "from sklearn.metrics import mean_squared_error\n",
    "# Dropping the target columns ('rating_number' and 'rating_text') from the dataset to create features (X)\n",
    "# The 'rating_number' column will be our target variable (y) that we want to predict.\n",
    "X = zomato_encoded.drop(columns=['rating_number', 'rating_text'])\n",
    "y = zomato_encoded['rating_number']\n",
    "# Splitting the dataset into training (80%) and testing (20%) sets\n",
    "# The 'random_state' parameter ensures reproducibility of the split\n",
    "X_train, X_test, y_train, y_test = train_test_split(X, y, test_size=0.2, random_state=0)"
   ]
  },
  {
   "cell_type": "code",
   "execution_count": 27,
   "metadata": {},
   "outputs": [
    {
     "name": "stdout",
     "output_type": "stream",
     "text": [
      "The mean square error of regression_model_1 is 0.1323876442737592\n"
     ]
    }
   ],
   "source": [
    "# Importing the Linear Regression model from scikit-learn\n",
    "from sklearn.linear_model import LinearRegression\n",
    "# Initializing the first linear regression model\n",
    "model_regression_1 = LinearRegression()\n",
    "# Using the fit method to fit the model\n",
    "model_regression_1.fit(X_train, y_train)\n",
    "# By using the the predict method we use the model to predict on the X_test values\n",
    "y_pred = model_regression_1.predict(X_test)\n",
    "# Calculating the Mean Squared Error for model 1\n",
    "mse_model_1 = mean_squared_error(y_test, y_pred)\n",
    "# Printing the Mean Squared Error for model 1\n",
    "# A lower MSE is good\n",
    "print(\"The mean square error of regression_model_1 is\", mse_model_1)"
   ]
  },
  {
   "cell_type": "markdown",
   "metadata": {},
   "source": [
    "**4. Building the linear_regression_model_2**"
   ]
  },
  {
   "cell_type": "code",
   "execution_count": 28,
   "metadata": {},
   "outputs": [
    {
     "name": "stdout",
     "output_type": "stream",
     "text": [
      "The mean square error of regression_model_2 is 2.283203341994137e+20\n"
     ]
    }
   ],
   "source": [
    "# Importing the SGDRegressor from scikit-learn\n",
    "from sklearn.linear_model import SGDRegressor\n",
    "# Initialize and train the second linear regression model using Gradient Descent\n",
    "# 'max_iter=1000': This sets the maximum number of iterations for the algorithm to converge. \n",
    "# A value of 1000 is chosen to ensure that the model has enough iterations to learn from the data.\n",
    "# 'learning_rate='constant'': This indicates that the learning rate remains constant throughout the training process, \n",
    "# which can provide stable convergence, especially in cases where the optimal learning rate is known in advance.\n",
    "# 'eta0=0.000051': This is the initial learning rate used by the model.\n",
    "model_regression_2 = SGDRegressor(max_iter=1000, learning_rate='constant', eta0=0.000051)\n",
    "model_regression_2.fit(X_train, y_train)\n",
    "# Predicting on the test set with model_regression_2\n",
    "y_pred_sgd = model_regression_2.predict(X_test)\n",
    "# Calculating the Mean Squared Error for model 2\n",
    "mse_model_2 = mean_squared_error(y_test, y_pred_sgd)\n",
    "print(\"The mean square error of regression_model_2 is\", mse_model_2)"
   ]
  },
  {
   "cell_type": "code",
   "execution_count": 29,
   "metadata": {},
   "outputs": [
    {
     "name": "stdout",
     "output_type": "stream",
     "text": [
      "The mean square error of regression_model_2_scaled is 0.13299775820629312\n"
     ]
    }
   ],
   "source": [
    "# Standardizing the data to improve the performance of the SGD Regressor or the second model\n",
    "# The first SGD model had a very high Mean Squared Error (MSE), indicating poor prediction accuracy.\n",
    "# Standardization scales the features to have a mean of 0 and a variance of 1\n",
    "# This will help the model converge more effectively and improve its performance \n",
    "from sklearn.preprocessing import StandardScaler\n",
    "# Standardizing the data by using the StandardScaler\n",
    "scaler = StandardScaler()\n",
    "X_train_scaled = scaler.fit_transform(X_train)\n",
    "X_test_scaled = scaler.transform(X_test)\n",
    "# Initialize and train the SGD Regressor model again with scaled data\n",
    "model_regression_2 = SGDRegressor(max_iter=1000, learning_rate='constant', eta0=0.000051)\n",
    "model_regression_2.fit(X_train_scaled, y_train)\n",
    "# Predict on the test set by using the standardized model\n",
    "y_pred_sgd = model_regression_2.predict(X_test_scaled)\n",
    "# Calculate the Mean Squared Error for model 2 with scaled data\n",
    "mse_model_2_scaled = mean_squared_error(y_test, y_pred_sgd)\n",
    "print(\"The mean square error of regression_model_2_scaled is\", mse_model_2_scaled)"
   ]
  },
  {
   "cell_type": "markdown",
   "metadata": {},
   "source": [
    "**5. Reporting the mean square error(MSE) on the test data for both models**"
   ]
  },
  {
   "cell_type": "markdown",
   "metadata": {},
   "source": [
    "In evaluating the performance of regression models, the Mean Squared Error (MSE) provides a quantitative measure of prediction accuracy. \n",
    "\n",
    "Comparing the models with their respective MSE \n",
    "\n",
    "Regression Model 1 (linear regression)\n",
    "\n",
    "MSE: 0.1323876442737592\n",
    "\n",
    "An MSE of 0.132 indicates that, on average, the square of the error or the difference between predicted values and actual values is 0.132. Even though this is a relatively low error, a lower error would have been better. It can be concluded that the model has resonably accurate predictions. \n",
    "\n",
    "Regression Model 2 (SGD Regressor)\n",
    "\n",
    "MSE: 1.4281444829959446e+22\n",
    "\n",
    "The extremely high MSE indicates a significant failure in prediction accuracy, likely due to improper convergence of the model.\n",
    "\n",
    "Regression Model 2 with scaled data (SGD Regressor with Scaled Data)\n",
    "\n",
    "MSE: 0.13287898284637378\n",
    "\n",
    "After standardizing the data, the MSE of the SGD regressor improved significantly, making it comparable to regression model 1.  \n",
    "\n"
   ]
  },
  {
   "cell_type": "markdown",
   "metadata": {},
   "source": [
    "### Part C - III - Classification"
   ]
  },
  {
   "cell_type": "markdown",
   "metadata": {},
   "source": [
    "**6. Simplifying the problem into binary classification**"
   ]
  },
  {
   "cell_type": "markdown",
   "metadata": {},
   "source": [
    "To simplify the problem into a binary classification, a binary target variable based on the rating text column has been created, the Class 1 is created to include ratings which are classfied as \"Poor\" and \"Average\" and class 2 encompasses ratings which are classified as \"Good\", \"Very Good\" and \"Excellent\". The implementation involves using the apply function along with a lambda expression to convert the categorical ratings into a binary format."
   ]
  },
  {
   "cell_type": "code",
   "execution_count": 30,
   "metadata": {},
   "outputs": [],
   "source": [
    "# Creating a binary target variable based on the 'rating_text' column\n",
    "# We define 'Poor' and 'Average' ratings as class 1, and all other ratings as class 2.\n",
    "# The 'apply' function with a lambda expression is used to convert the categorical ratings into binary format.\n",
    "binary_target = zomato_encoded['rating_text'].apply(lambda x: 1 if x in ['Poor', 'Average'] else 2)\n",
    "# Split the data into train (80%) and test (20%) sets with random_state set to 0 for reproducibility\n",
    "X_train_class, X_test_class, y_train_class, y_test_class = train_test_split(X, binary_target, test_size=0.2, random_state=0)"
   ]
  },
  {
   "cell_type": "markdown",
   "metadata": {},
   "source": [
    "**7. Building the logistic regression model or model_classification_3**"
   ]
  },
  {
   "cell_type": "code",
   "execution_count": 31,
   "metadata": {},
   "outputs": [
    {
     "name": "stdout",
     "output_type": "stream",
     "text": [
      "Accuracy of Logistic Classifier: 0.844755774327906\n"
     ]
    }
   ],
   "source": [
    "# Importing the Logistic Regression model from scikit-learn\n",
    "from sklearn.linear_model import LogisticRegression\n",
    "# Setting up the classification model\n",
    "# Max iter sets the maximum number of iterations \n",
    "# random_state = 0 is used for reproducibility\n",
    "model_classification_3 = LogisticRegression(max_iter=1000, random_state=0)\n",
    "# fitting the model on the X_train and y_train\n",
    "model_classification_3.fit(X_train_class, y_train_class)\n",
    "# using the predict method to predict \n",
    "y_pred_class = model_classification_3.predict(X_test_class)\n",
    "# Checking the model accuracy by using the score method\n",
    "accuracy_model_classification_3= model_classification_3.score(X_test_class, y_test_class)\n",
    "# Printing the accuracy of the model\n",
    "print(f'Accuracy of Logistic Classifier: {accuracy_model_classification_3}')"
   ]
  },
  {
   "cell_type": "markdown",
   "metadata": {},
   "source": [
    "A logistic regression model has been built, to classify the simplified data, after running the model it was observed that the accuracy of the model was 0.844, i.e the model predicted 84% of the data correctly. "
   ]
  },
  {
   "cell_type": "markdown",
   "metadata": {},
   "source": [
    "**8. Use the confusion matrix to report the results of using the classification model on the test data**"
   ]
  },
  {
   "cell_type": "code",
   "execution_count": 32,
   "metadata": {},
   "outputs": [
    {
     "name": "stdout",
     "output_type": "stream",
     "text": [
      "Confusion Matrix:\n",
      "[[1568  106]\n",
      " [ 304  663]]\n",
      "Classification Report:\n",
      "              precision    recall  f1-score   support\n",
      "\n",
      "           1       0.84      0.94      0.88      1674\n",
      "           2       0.86      0.69      0.76       967\n",
      "\n",
      "    accuracy                           0.84      2641\n",
      "   macro avg       0.85      0.81      0.82      2641\n",
      "weighted avg       0.85      0.84      0.84      2641\n",
      "\n"
     ]
    }
   ],
   "source": [
    "# Importing necessary for evaluation of the model\n",
    "from sklearn.metrics import confusion_matrix, classification_report\n",
    "# Computing the confusion matrix\n",
    "# The confusion matrix summarizes the performance of the classification model\n",
    "conf_matrix = confusion_matrix(y_test_class, y_pred_class)\n",
    "# Displaying the confusion matrix\n",
    "print(f'Confusion Matrix:\\n{conf_matrix}')\n",
    "# creating the classification report for more detailed performance metrics\n",
    "class_report = classification_report(y_test_class, y_pred_class)\n",
    "# Printing the classification report\n",
    "print(f'Classification Report:\\n{class_report}')"
   ]
  },
  {
   "cell_type": "markdown",
   "metadata": {},
   "source": [
    "**9. Draw your conclusions and observations about the performance of the model relevant to the classes’ distributions.**"
   ]
  },
  {
   "cell_type": "markdown",
   "metadata": {},
   "source": [
    "Conclusions and Observations\n",
    "\n",
    "Class Performance:\n",
    "\n",
    "Class 1 (Poor and Average): The model performs well, with a high recall of 0.94 and an F1-score of 0.88, indicating that it effectively identifies most instances of this class.\n",
    "\n",
    "Class 2 (Good, Very Good, Excellent): The model struggles more, showing a lower recall of 0.69 and an F1-score of 0.76. This suggests that many actual Class 2 instances are misclassified as Class 1.\n",
    "\n",
    "Precision: The precision for both classes is relatively high (0.84 for Class 1 and 0.86 for Class 2), meaning when the model predicts a class, it is mostly correct.\n",
    "\n",
    "Overall Accuracy: The model achieves an accuracy of 0.84, indicating that it correctly predicts 84% of the test instances.\n",
    "\n",
    "Summary\n",
    "\n",
    "While the model is effective at predicting Class 1 ratings, it has room for improvement in identifying Class 2 ratings. The imbalance in class distribution likely contributes to this discrepancy."
   ]
  },
  {
   "cell_type": "markdown",
   "metadata": {},
   "source": [
    "**10. Repeating the classification tasks using three models of my choice.**"
   ]
  },
  {
   "cell_type": "markdown",
   "metadata": {},
   "source": [
    "I have chosen KNN, DecisionTree and Random forest"
   ]
  },
  {
   "cell_type": "code",
   "execution_count": 33,
   "metadata": {},
   "outputs": [
    {
     "name": "stdout",
     "output_type": "stream",
     "text": [
      "Accuracy of KNN: 0.8848920863309353\n"
     ]
    }
   ],
   "source": [
    "# Importing the Kneigbours classifier\n",
    "from sklearn.neighbors import KNeighborsClassifier\n",
    "# Initializing and training the KNN model \n",
    "# The number of neighbors (n_neighbors) is set to 5. This parameter can be adjusted based on model performance.\n",
    "model_knn = KNeighborsClassifier(n_neighbors=5)\n",
    "# Fitting the model  \n",
    "model_knn.fit(X_train_class, y_train_class)\n",
    "# Predicting on the test set\n",
    "y_pred_knn = model_knn.predict(X_test_class)\n",
    "# Checking model accuracy\n",
    "accuracy_knn = model_knn.score(X_test_class, y_test_class)\n",
    "# Printing the accuracy\n",
    "print(f'Accuracy of KNN: {accuracy_knn}')\n"
   ]
  },
  {
   "cell_type": "code",
   "execution_count": 34,
   "metadata": {},
   "outputs": [
    {
     "name": "stdout",
     "output_type": "stream",
     "text": [
      "Accuracy of Decision Tree: 0.9121544869367664\n"
     ]
    }
   ],
   "source": [
    "# Importing the Decision Tree classifier\n",
    "from sklearn.tree import DecisionTreeClassifier\n",
    "# Initializing and training the decision tree model\n",
    "model_dt = DecisionTreeClassifier(random_state=0)\n",
    "# Fitting the model\n",
    "model_dt.fit(X_train_class, y_train_class)\n",
    "# Predicting on the test set\n",
    "y_pred_dt = model_dt.predict(X_test_class)\n",
    "# Checking model accuracy\n",
    "accuracy_dt = model_dt.score(X_test_class, y_test_class)\n",
    "# Printing the accuracy\n",
    "print(f'Accuracy of Decision Tree: {accuracy_dt}')\n"
   ]
  },
  {
   "cell_type": "code",
   "execution_count": 35,
   "metadata": {},
   "outputs": [
    {
     "name": "stdout",
     "output_type": "stream",
     "text": [
      "Accuracy of Random Forest: 0.8928436198409694\n"
     ]
    }
   ],
   "source": [
    "# Importing the random forest classifier\n",
    "from sklearn.ensemble import RandomForestClassifier\n",
    "# Initializing and training the Random Forest model\n",
    "model_rf = RandomForestClassifier(n_estimators=100, random_state=0) \n",
    "model_rf.fit(X_train_class, y_train_class)\n",
    "# Predicting on the test set\n",
    "y_pred_rf = model_rf.predict(X_test_class)\n",
    "# Checking model accuracy\n",
    "accuracy_rf = model_rf.score(X_test_class, y_test_class)\n",
    "# Printing the accuracy of the model\n",
    "print(f'Accuracy of Random Forest: {accuracy_rf}')"
   ]
  },
  {
   "cell_type": "markdown",
   "metadata": {},
   "source": [
    "#### Model Performance Report\n",
    "\n",
    "In this analysis, we evaluated the performance of three classification models: K-Nearest Neighbors (KNN), Decision Tree, and Random Forest. The accuracy of each model on the test dataset is as follows:\n",
    "\n",
    "**K-Nearest Neighbors (KNN)**: \n",
    "\n",
    "**Accuracy**: approximately 88.49%\n",
    "\n",
    "The KNN model performed well, correctly classifying around 88.49% of the test instances. Its performance indicates a strong ability to generalize from the training data.\n",
    "\n",
    "**Decision Tree**: \n",
    "\n",
    "**Accuracy**: approximately 91.22%\n",
    "\n",
    "The Decision Tree model outperformed both KNN and Random Forest, achieving an accuracy of 91.22%. This suggests that the Decision Tree was effective in capturing the underlying patterns in the data.\n",
    "\n",
    "**Random Forest**: \n",
    "\n",
    "**Accuracy**: approximately 89.28%\n",
    "\n",
    "The Random Forest model demonstrated good performance as well, with an accuracy of 89.28%. While it was slightly less accurate than the Decision Tree, it still provides robust classification results due to its ensemble nature.\n",
    "\n",
    "#### Summary\n",
    "Overall, all three models exhibited strong performance, with the Decision Tree leading in accuracy. The results suggest that while KNN and Random Forest are effective, the Decision Tree may be the most reliable choice for this particular classification task. Further tuning and cross-validation could enhance these models' performance, particularly for the KNN and Random Forest classifiers."
   ]
  }
 ],
 "metadata": {
  "kernelspec": {
   "display_name": "PRML",
   "language": "python",
   "name": "python3"
  },
  "language_info": {
   "codemirror_mode": {
    "name": "ipython",
    "version": 3
   },
   "file_extension": ".py",
   "mimetype": "text/x-python",
   "name": "python",
   "nbconvert_exporter": "python",
   "pygments_lexer": "ipython3",
   "version": "3.12.4"
  }
 },
 "nbformat": 4,
 "nbformat_minor": 2
}
